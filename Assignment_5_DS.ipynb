{
 "cells": [
  {
   "cell_type": "markdown",
   "id": "14846fe8",
   "metadata": {},
   "source": [
    "# Assignment 5 solution\n"
   ]
  },
  {
   "cell_type": "raw",
   "id": "04c17ce3",
   "metadata": {},
   "source": [
    "Q.1. What does an empty dictionary's code look like?\n",
    "\n",
    "Ans: An empty dictionary is created using curly braces {} or the dict() constructor with no            arguments."
   ]
  },
  {
   "cell_type": "code",
   "execution_count": 1,
   "id": "16cc1c38",
   "metadata": {},
   "outputs": [],
   "source": [
    "#for example\n",
    "empty_dict = {}\n",
    "empty_dict = dict()\n"
   ]
  },
  {
   "cell_type": "raw",
   "id": "90ee3f8b",
   "metadata": {},
   "source": [
    "Q.2. What is the value of a dictionary value with the key 'foo' and the value 42?\n",
    "\n",
    "Ans: The value of the dictionary value with the key 'foo' and the value 42 would be 42.\n",
    "\n",
    "     We can access the value of a dictionary by using the key in square brackets after the            dictionary variable name.\n",
    "           d = {'foo': 42}\n",
    "           print(d['foo'])  # Output: 42\n",
    "     \n",
    "     We can also use the get() method which returns the value for the given key if key is in the      dictionary, else default value\n",
    "          d = {'foo': 42}\n",
    "          print(d.get('foo'))  # Output: 42\n",
    "\n",
    "Note:if the key 'foo' doesn't exist in the dictionary it will raise an error in the first example and return None in the second example."
   ]
  },
  {
   "cell_type": "code",
   "execution_count": 11,
   "id": "80aa31a3",
   "metadata": {},
   "outputs": [
    {
     "name": "stdout",
     "output_type": "stream",
     "text": [
      "42\n"
     ]
    }
   ],
   "source": [
    "d = {'foo': 42}\n",
    "print(d['foo'])  "
   ]
  },
  {
   "cell_type": "code",
   "execution_count": 12,
   "id": "f5e1dda9",
   "metadata": {},
   "outputs": [
    {
     "name": "stdout",
     "output_type": "stream",
     "text": [
      "42\n"
     ]
    }
   ],
   "source": [
    "d = {'foo': 42}\n",
    "print(d.get('foo'))  "
   ]
  },
  {
   "cell_type": "raw",
   "id": "b675bea6",
   "metadata": {},
   "source": [
    "Q.3. What is the most significant distinction between a dictionary and a list?\n",
    "\n",
    "Ans: The most significant distinction between a dictionary and a list is that a dictionary uses        keys to access its elements, while a list uses indices (integer positions).\n",
    "\n",
    "     A list is a collection of elements that are ordered and have a numerical index, while a          dictionary is a collection of elements that are unordered and have a key-value pair. In a        list, you access an element by its position in the list, whereas in a dictionary you access      an element by its key.\n",
    "     \n",
    "     Another significant difference between a list and a dictionary is that lists are mutable,        meaning the elements in the list can be changed, while the keys in a dictionary are              immutable and we can't change them."
   ]
  },
  {
   "cell_type": "code",
   "execution_count": 6,
   "id": "9825ec0c",
   "metadata": {},
   "outputs": [
    {
     "name": "stdout",
     "output_type": "stream",
     "text": [
      "1\n"
     ]
    }
   ],
   "source": [
    "#For example, in a list, we would access the first element using the index 0, like so:\n",
    "\n",
    "my_list = [1, 2, 3]\n",
    "print(my_list[0])  \n"
   ]
  },
  {
   "cell_type": "code",
   "execution_count": 7,
   "id": "169b1652",
   "metadata": {},
   "outputs": [
    {
     "name": "stdout",
     "output_type": "stream",
     "text": [
      "42\n"
     ]
    }
   ],
   "source": [
    "#In a dictionary, we would access the value associated with a specific key, like so:\n",
    "\n",
    "my_dict = {'sharma': 42, 'bar': 23}\n",
    "print(my_dict['sharma'])  # Output: 42\n"
   ]
  },
  {
   "cell_type": "raw",
   "id": "2d2b3eea",
   "metadata": {},
   "source": [
    "Q.4. What happens if you try to access spam['foo'] if spam is {'bar': 100}?\n",
    "\n",
    "Ans: If we try to access spam['foo'] when spam is defined as {'bar': 100}, it will raise a            KeyError, because the key 'foo' does not exist in the dictionary."
   ]
  },
  {
   "cell_type": "code",
   "execution_count": 9,
   "id": "f041a368",
   "metadata": {},
   "outputs": [
    {
     "ename": "KeyError",
     "evalue": "'foo'",
     "output_type": "error",
     "traceback": [
      "\u001b[1;31m---------------------------------------------------------------------------\u001b[0m",
      "\u001b[1;31mKeyError\u001b[0m                                  Traceback (most recent call last)",
      "Input \u001b[1;32mIn [9]\u001b[0m, in \u001b[0;36m<cell line: 2>\u001b[1;34m()\u001b[0m\n\u001b[0;32m      1\u001b[0m spam \u001b[38;5;241m=\u001b[39m {\u001b[38;5;124m'\u001b[39m\u001b[38;5;124mbar\u001b[39m\u001b[38;5;124m'\u001b[39m: \u001b[38;5;241m100\u001b[39m}\n\u001b[1;32m----> 2\u001b[0m \u001b[38;5;28mprint\u001b[39m(\u001b[43mspam\u001b[49m\u001b[43m[\u001b[49m\u001b[38;5;124;43m'\u001b[39;49m\u001b[38;5;124;43mfoo\u001b[39;49m\u001b[38;5;124;43m'\u001b[39;49m\u001b[43m]\u001b[49m)\n",
      "\u001b[1;31mKeyError\u001b[0m: 'foo'"
     ]
    }
   ],
   "source": [
    "spam = {'bar': 100}\n",
    "print(spam['foo']) \n"
   ]
  },
  {
   "cell_type": "code",
   "execution_count": 10,
   "id": "5ce899f4",
   "metadata": {},
   "outputs": [
    {
     "name": "stdout",
     "output_type": "stream",
     "text": [
      "Key 'foo' does not exist in the dictionary.\n"
     ]
    }
   ],
   "source": [
    "#Alternatively, we can use the 'in' keyword to check if a key exists in the dictionary before trying to access its value.\n",
    "spam = {'bar': 100}\n",
    "if 'foo' in spam:\n",
    "    print(spam['foo'])\n",
    "else:\n",
    "    print(\"Key 'foo' does not exist in the dictionary.\")\n"
   ]
  },
  {
   "cell_type": "raw",
   "id": "0d6aafb6",
   "metadata": {},
   "source": [
    "Q.5. If a dictionary is stored in spam, what is the difference between the expressions 'cat' in        spam and 'cat' in spam.keys()?\n",
    "\n",
    "Ans: The expression 'cat' in spam checks if the key 'cat' is present in the dictionary spam. If        it is present, it returns True, otherwise it returns False.\n",
    "\n",
    "     On the other hand, 'cat' in spam.keys() also checks if the key 'cat' is present in the            dictionary spam, but it does so by checking the keys of the dictionary rather than the keys      and values. This is equivalent to using the built-in function 'dict.keys()' to get a view of      the keys in the dictionary and checking if 'cat' is present in that view."
   ]
  },
  {
   "cell_type": "code",
   "execution_count": 16,
   "id": "11dd765f",
   "metadata": {},
   "outputs": [
    {
     "data": {
      "text/plain": [
       "dict_keys(['cat', 'dog'])"
      ]
     },
     "execution_count": 16,
     "metadata": {},
     "output_type": "execute_result"
    }
   ],
   "source": [
    "#for example\n",
    "spam = {'cat': 'meow', 'dog': 'bark'}\n",
    "spam.keys()"
   ]
  },
  {
   "cell_type": "raw",
   "id": "92532431",
   "metadata": {},
   "source": [
    "Q.6. If a dictionary is stored in spam, what is the difference between the expressions 'cat' in        spam and 'cat' in spam.values()?\n",
    "\n",
    "Ans: If a dictionary is stored in spam, the expression 'cat' in 'spam' will check if the key          'cat' exists in the dictionary 'spam'.\n",
    "\n",
    "     On the other hand, the expression 'cat' in 'spam.values()' will check if the value 'cat'          exists in the values of the dictionary 'spam'.\n",
    "\n",
    "     If 'cat' is a key in the dictionary 'spam', the first expression 'cat' in 'spam' will return      'True' while the second expression 'cat' in 'spam.values()' will return 'False'."
   ]
  },
  {
   "cell_type": "code",
   "execution_count": 21,
   "id": "87d8ab13",
   "metadata": {},
   "outputs": [
    {
     "name": "stdout",
     "output_type": "stream",
     "text": [
      "True\n",
      "False\n"
     ]
    }
   ],
   "source": [
    "#for example\n",
    "#If 'cat' is a key in the dictionary 'spam', the first expression 'cat' in 'spam' will return 'True' while the second expression 'cat' in 'spam.values()' will return 'False'.\n",
    "spam = {'cat': 42, 'dog': 23}\n",
    "print('cat' in spam)  \n",
    "print('cat' in spam.values()) \n"
   ]
  },
  {
   "cell_type": "code",
   "execution_count": 20,
   "id": "50aa9726",
   "metadata": {},
   "outputs": [
    {
     "name": "stdout",
     "output_type": "stream",
     "text": [
      "False\n",
      "True\n"
     ]
    }
   ],
   "source": [
    "#for example\n",
    "#If 'cat' is a value in the dictionary 'spam', the first expression 'cat' in 'spam' will return 'False' while the second expression 'cat' in 'spam.values()'' will return 'True'.\n",
    "spam = {'dog': 'cat', 'bird': 23}\n",
    "print('cat' in spam) \n",
    "print('cat' in spam.values()) \n"
   ]
  },
  {
   "cell_type": "raw",
   "id": "9ffb5629",
   "metadata": {},
   "source": [
    "#Q.7. What is a shortcut for the following code?\n",
    "     if 'color' not in spam:\n",
    "     spam['color'] = 'black'\n",
    "\n",
    "Ans: spam.setdefault('color', 'black')    \n",
    "    \n"
   ]
  },
  {
   "cell_type": "raw",
   "id": "1f81b1a5",
   "metadata": {},
   "source": [
    "Q.8. How do you \"pretty print\" dictionary values using which module and function?\n",
    "\n",
    "Ans: we can pretty print a dictionary using three functions\n",
    "\n",
    "        1. By using pprint() function of pprint module\n",
    "     Note: pprint() function doesnot prettify nested dictionaries\n",
    "        2. By using dumps() method of json module\n",
    "        3. By using dumps() method of yaml module"
   ]
  },
  {
   "cell_type": "code",
   "execution_count": 26,
   "id": "7992970e",
   "metadata": {},
   "outputs": [
    {
     "name": "stdout",
     "output_type": "stream",
     "text": [
      "Printing using print() function\n",
      " [{'Name': 'John', 'Age': '23', 'Residence': {'Country': 'USA', 'City': 'New York'}}, {'Name': 'Jose', 'Age': '44', 'Residence': {'Country': 'Spain', 'City': 'Madrid'}}, {'Name': 'Anne', 'Age': '29', 'Residence': {'Country': 'UK', 'City': 'England'}}, {'Name': 'Lee', 'Age': '35', 'Residence': {'Country': 'Japan', 'City': 'Osaka'}}]\n",
      "----------------------------------------------------------------------\n",
      "Printing using pprint() funciton\n",
      "[{'Age': '23',\n",
      "  'Name': 'John',\n",
      "  'Residence': {'City': 'New York', 'Country': 'USA'}},\n",
      " {'Age': '44',\n",
      "  'Name': 'Jose',\n",
      "  'Residence': {'City': 'Madrid', 'Country': 'Spain'}},\n",
      " {'Age': '29',\n",
      "  'Name': 'Anne',\n",
      "  'Residence': {'City': 'England', 'Country': 'UK'}},\n",
      " {'Age': '35',\n",
      "  'Name': 'Lee',\n",
      "  'Residence': {'City': 'Osaka', 'Country': 'Japan'}}]\n",
      "----------------------------------------------------------------------\n",
      "Printing using dumps() method\n",
      " [\n",
      "    {\n",
      "        \"Name\": \"John\",\n",
      "        \"Age\": \"23\",\n",
      "        \"Residence\": {\n",
      "            \"Country\": \"USA\",\n",
      "            \"City\": \"New York\"\n",
      "        }\n",
      "    },\n",
      "    {\n",
      "        \"Name\": \"Jose\",\n",
      "        \"Age\": \"44\",\n",
      "        \"Residence\": {\n",
      "            \"Country\": \"Spain\",\n",
      "            \"City\": \"Madrid\"\n",
      "        }\n",
      "    },\n",
      "    {\n",
      "        \"Name\": \"Anne\",\n",
      "        \"Age\": \"29\",\n",
      "        \"Residence\": {\n",
      "            \"Country\": \"UK\",\n",
      "            \"City\": \"England\"\n",
      "        }\n",
      "    },\n",
      "    {\n",
      "        \"Name\": \"Lee\",\n",
      "        \"Age\": \"35\",\n",
      "        \"Residence\": {\n",
      "            \"Country\": \"Japan\",\n",
      "            \"City\": \"Osaka\"\n",
      "        }\n",
      "    }\n",
      "]\n",
      "----------------------------------------------------------------------\n",
      "Printing using dump() method\n",
      " - Age: '23'\n",
      "  Name: John\n",
      "  Residence:\n",
      "    City: New York\n",
      "    Country: USA\n",
      "- Age: '44'\n",
      "  Name: Jose\n",
      "  Residence:\n",
      "    City: Madrid\n",
      "    Country: Spain\n",
      "- Age: '29'\n",
      "  Name: Anne\n",
      "  Residence:\n",
      "    City: England\n",
      "    Country: UK\n",
      "- Age: '35'\n",
      "  Name: Lee\n",
      "  Residence:\n",
      "    City: Osaka\n",
      "    Country: Japan\n",
      "\n"
     ]
    }
   ],
   "source": [
    "ndict = [\n",
    "  {'Name': 'John', 'Age': '23', 'Residence': {'Country':'USA', 'City': 'New York'}},\n",
    "  {'Name': 'Jose', 'Age': '44', 'Residence': {'Country':'Spain', 'City': 'Madrid'}},\n",
    "  {'Name': 'Anne', 'Age': '29', 'Residence': {'Country':'UK', 'City': 'England'}},\n",
    "  {'Name': 'Lee', 'Age': '35', 'Residence': {'Country':'Japan', 'City': 'Osaka'}}\n",
    "]\n",
    "\n",
    "print('Printing using print() function\\n',ndict)\n",
    "print('-'*70)\n",
    "import pprint\n",
    "print('Printing using pprint() funciton')\n",
    "pprint.pprint(ndict)\n",
    "print('-'*70)\n",
    "import json\n",
    "dump = json.dumps(ndict, indent=4)\n",
    "print('Printing using dumps() method\\n', dump)\n",
    "print('-'*70)\n",
    "import yaml\n",
    "dump = yaml.dump(ndict)\n",
    "print('Printing using dump() method\\n', dump)"
   ]
  },
  {
   "cell_type": "code",
   "execution_count": null,
   "id": "aff0a319",
   "metadata": {},
   "outputs": [],
   "source": []
  }
 ],
 "metadata": {
  "kernelspec": {
   "display_name": "Python 3 (ipykernel)",
   "language": "python",
   "name": "python3"
  },
  "language_info": {
   "codemirror_mode": {
    "name": "ipython",
    "version": 3
   },
   "file_extension": ".py",
   "mimetype": "text/x-python",
   "name": "python",
   "nbconvert_exporter": "python",
   "pygments_lexer": "ipython3",
   "version": "3.9.12"
  }
 },
 "nbformat": 4,
 "nbformat_minor": 5
}
